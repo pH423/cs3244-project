{
 "cells": [
  {
   "cell_type": "code",
   "execution_count": 1,
   "id": "58ac1fa7",
   "metadata": {},
   "outputs": [],
   "source": [
    "import pandas as pd\n",
    "import numpy as np\n",
    "from sklearn.preprocessing import MinMaxScaler\n",
    "from sklearn import neighbors\n",
    "from sklearn.metrics import accuracy_score, precision_score, recall_score, f1_score,roc_auc_score, roc_curve\n",
    "from sklearn.metrics import plot_confusion_matrix, classification_report\n",
    "import matplotlib.pyplot as plt\n",
    "import seaborn as sns"
   ]
  },
  {
   "cell_type": "code",
   "execution_count": 3,
   "id": "a5bed237",
   "metadata": {},
   "outputs": [],
   "source": [
    "train_data = pd.read_csv('../Auto Pipeline/10_weekly_train.csv')\n",
    "test_data = pd.read_csv('../Auto Pipeline/10_weekly_test.csv')\n",
    "train_data.drop([\"Date\"],1, inplace = True)\n",
    "test_data.drop([\"Date\"],1, inplace = True)"
   ]
  },
  {
   "cell_type": "code",
   "execution_count": 4,
   "id": "a36f2ec5",
   "metadata": {},
   "outputs": [],
   "source": [
    "scaler = MinMaxScaler(feature_range=(0, 1))\n",
    "train_mov = train_data[\"movement\"]\n",
    "test_mov = test_data[\"movement\"]\n",
    "col_name = train_data.drop([\"movement\"],1).columns\n",
    "train_data[col_name] = scaler.fit_transform(train_data.drop([\"movement\"],1))\n",
    "test_data[col_name] = scaler.fit_transform(test_data.drop([\"movement\"],1))\n",
    "train_data[\"movement\"] = train_mov\n",
    "test_data[\"movement\"] = test_mov"
   ]
  },
  {
   "cell_type": "code",
   "execution_count": 5,
   "id": "8462bd1d",
   "metadata": {},
   "outputs": [],
   "source": [
    "label_train = train_data[\"movement\"].astype(int)\n",
    "train = train_data.drop([\"Close (t)\",\"movement\"],1)\n",
    "label_test = test_data[\"movement\"].astype(int)\n",
    "test = test_data.drop([\"Close (t)\",\"movement\"],1)"
   ]
  },
  {
   "cell_type": "code",
   "execution_count": 17,
   "id": "13a38665",
   "metadata": {},
   "outputs": [],
   "source": [
    "knn = neighbors.KNeighborsClassifier(n_neighbors = 9, metric='euclidean')\n",
    "knn_model = knn.fit(train, label_train)"
   ]
  },
  {
   "cell_type": "code",
   "execution_count": 8,
   "id": "2896bd23",
   "metadata": {},
   "outputs": [],
   "source": [
    "def evaluate_model(model, test, label_test):\n",
    "    predicted = model.predict(test)\n",
    "    print(\"accuracy:\", str(accuracy_score(label_test, predicted)))\n",
    "    \n",
    "    print(\"precision:\", str(precision_score(label_test, predicted, average='weighted')))\n",
    "\n",
    "    print(\"recall:\", str(recall_score(label_test, predicted, average='weighted')))\n",
    "   \n",
    "    print(\"f1\", str(f1_score(label_test, predicted, average='weighted')))\n",
    "    \n",
    "    print(\"metrics.roc_auc_score\", str(roc_auc_score(label_test, predicted, average='weighted')))\n",
    "\n",
    "    plot_confusion_matrix(model, test, label_test,\n",
    "                      display_labels=list(set(label_test)),\n",
    "                      cmap=plt.cm.Blues)\n",
    "    \n",
    "    classification = classification_report(label_test, predicted)\n",
    "    print(classification)"
   ]
  },
  {
   "cell_type": "code",
   "execution_count": 16,
   "id": "a6257001",
   "metadata": {},
   "outputs": [
    {
     "name": "stdout",
     "output_type": "stream",
     "text": [
      "accuracy: 0.53954802259887\n",
      "precision: 0.5321357697447671\n",
      "recall: 0.53954802259887\n",
      "f1 0.5352517560177446\n",
      "metrics.roc_auc_score 0.5074532857442788\n",
      "              precision    recall  f1-score   support\n",
      "\n",
      "           0       0.40      0.36      0.38       275\n",
      "           1       0.62      0.65      0.63       433\n",
      "\n",
      "    accuracy                           0.54       708\n",
      "   macro avg       0.51      0.51      0.51       708\n",
      "weighted avg       0.53      0.54      0.54       708\n",
      "\n"
     ]
    },
    {
     "data": {
      "image/png": "[encoded data removed]",
      "text/plain": [
       "<Figure size 432x288 with 2 Axes>"
      ]
     },
     "metadata": {
      "needs_background": "light"
     },
     "output_type": "display_data"
    }
   ],
   "source": [
    "evaluate_model(knn_model, test, label_test)"
   ]
  },
  {
   "cell_type": "code",
   "execution_count": null,
   "id": "5e1dc0eb",
   "metadata": {},
   "outputs": [],
   "source": []
  }
 ],
 "metadata": {
  "kernelspec": {
   "display_name": "Python 3",
   "language": "python",
   "name": "python3"
  },
  "language_info": {
   "codemirror_mode": {
    "name": "ipython",
    "version": 3
   },
   "file_extension": ".py",
   "mimetype": "text/x-python",
   "name": "python",
   "nbconvert_exporter": "python",
   "pygments_lexer": "ipython3",
   "version": "3.8.8"
  }
 },
 "nbformat": 4,
 "nbformat_minor": 5
}
